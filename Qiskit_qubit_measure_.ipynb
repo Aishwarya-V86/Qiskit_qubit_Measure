{
  "nbformat": 4,
  "nbformat_minor": 0,
  "metadata": {
    "colab": {
      "provenance": []
    },
    "kernelspec": {
      "name": "python3",
      "display_name": "Python 3"
    },
    "language_info": {
      "name": "python"
    }
  },
  "cells": [
    {
      "cell_type": "code",
      "source": [
        "!pip install qiskit qiskit-aer --upgrade"
      ],
      "metadata": {
        "id": "Mx6284lurNt1",
        "colab": {
          "base_uri": "https://localhost:8080/"
        },
        "outputId": "3b296587-4288-4542-b5d3-886f557555f2"
      },
      "execution_count": 3,
      "outputs": [
        {
          "output_type": "stream",
          "name": "stdout",
          "text": [
            "Collecting qiskit\n",
            "  Downloading qiskit-2.2.1-cp39-abi3-manylinux2014_x86_64.manylinux_2_17_x86_64.whl.metadata (12 kB)\n",
            "Collecting qiskit-aer\n",
            "  Downloading qiskit_aer-0.17.2-cp312-cp312-manylinux_2_17_x86_64.manylinux2014_x86_64.whl.metadata (8.3 kB)\n",
            "Collecting rustworkx>=0.15.0 (from qiskit)\n",
            "  Downloading rustworkx-0.17.1-cp39-abi3-manylinux_2_17_x86_64.manylinux2014_x86_64.whl.metadata (10 kB)\n",
            "Requirement already satisfied: numpy<3,>=1.17 in /usr/local/lib/python3.12/dist-packages (from qiskit) (2.0.2)\n",
            "Requirement already satisfied: scipy>=1.5 in /usr/local/lib/python3.12/dist-packages (from qiskit) (1.16.2)\n",
            "Requirement already satisfied: dill>=0.3 in /usr/local/lib/python3.12/dist-packages (from qiskit) (0.3.8)\n",
            "Collecting stevedore>=3.0.0 (from qiskit)\n",
            "  Downloading stevedore-5.5.0-py3-none-any.whl.metadata (2.2 kB)\n",
            "Requirement already satisfied: typing-extensions in /usr/local/lib/python3.12/dist-packages (from qiskit) (4.15.0)\n",
            "Requirement already satisfied: psutil>=5 in /usr/local/lib/python3.12/dist-packages (from qiskit-aer) (5.9.5)\n",
            "Requirement already satisfied: python-dateutil>=2.8.0 in /usr/local/lib/python3.12/dist-packages (from qiskit-aer) (2.9.0.post0)\n",
            "Requirement already satisfied: six>=1.5 in /usr/local/lib/python3.12/dist-packages (from python-dateutil>=2.8.0->qiskit-aer) (1.17.0)\n",
            "Downloading qiskit-2.2.1-cp39-abi3-manylinux2014_x86_64.manylinux_2_17_x86_64.whl (8.0 MB)\n",
            "\u001b[2K   \u001b[90m━━━━━━━━━━━━━━━━━━━━━━━━━━━━━━━━━━━━━━━━\u001b[0m \u001b[32m8.0/8.0 MB\u001b[0m \u001b[31m83.2 MB/s\u001b[0m eta \u001b[36m0:00:00\u001b[0m\n",
            "\u001b[?25hDownloading qiskit_aer-0.17.2-cp312-cp312-manylinux_2_17_x86_64.manylinux2014_x86_64.whl (12.4 MB)\n",
            "\u001b[2K   \u001b[90m━━━━━━━━━━━━━━━━━━━━━━━━━━━━━━━━━━━━━━━━\u001b[0m \u001b[32m12.4/12.4 MB\u001b[0m \u001b[31m97.0 MB/s\u001b[0m eta \u001b[36m0:00:00\u001b[0m\n",
            "\u001b[?25hDownloading rustworkx-0.17.1-cp39-abi3-manylinux_2_17_x86_64.manylinux2014_x86_64.whl (2.2 MB)\n",
            "\u001b[2K   \u001b[90m━━━━━━━━━━━━━━━━━━━━━━━━━━━━━━━━━━━━━━━━\u001b[0m \u001b[32m2.2/2.2 MB\u001b[0m \u001b[31m73.3 MB/s\u001b[0m eta \u001b[36m0:00:00\u001b[0m\n",
            "\u001b[?25hDownloading stevedore-5.5.0-py3-none-any.whl (49 kB)\n",
            "\u001b[2K   \u001b[90m━━━━━━━━━━━━━━━━━━━━━━━━━━━━━━━━━━━━━━━━\u001b[0m \u001b[32m49.5/49.5 kB\u001b[0m \u001b[31m3.1 MB/s\u001b[0m eta \u001b[36m0:00:00\u001b[0m\n",
            "\u001b[?25hInstalling collected packages: stevedore, rustworkx, qiskit, qiskit-aer\n",
            "Successfully installed qiskit-2.2.1 qiskit-aer-0.17.2 rustworkx-0.17.1 stevedore-5.5.0\n"
          ]
        }
      ]
    },
    {
      "cell_type": "code",
      "source": [
        "from qiskit import QuantumCircuit\n",
        "from qiskit_aer import AerSimulator"
      ],
      "metadata": {
        "id": "gI17i0yhrQgz"
      },
      "execution_count": 4,
      "outputs": []
    },
    {
      "cell_type": "code",
      "execution_count": 7,
      "metadata": {
        "id": "VPOwLacGrCdU",
        "colab": {
          "base_uri": "https://localhost:8080/"
        },
        "outputId": "49636bad-6688-47e3-e598-68fe536aafdb"
      },
      "outputs": [
        {
          "output_type": "stream",
          "name": "stdout",
          "text": [
            "|0> counts: {'0 0': 238, '1 0': 274}\n",
            "|1> counts: {'1 0': 512}\n"
          ]
        }
      ],
      "source": [
        "# Task 1: Verify |0⟩ and |1⟩\n",
        "from qiskit import QuantumCircuit, transpile\n",
        "from qiskit_aer import AerSimulator\n",
        "\n",
        "sim = AerSimulator()\n",
        "\n",
        "# |0> state\n",
        "qc0 = QuantumCircuit(1, 1)\n",
        "qc0.h(0)\n",
        "qc0.measure_all()\n",
        "job0 = sim.run(transpile(qc0, sim), shots=512).result()\n",
        "print(\"|0> counts:\", job0.get_counts())\n",
        "\n",
        "# |1> state (apply X)\n",
        "qc1 = QuantumCircuit(1, 1)\n",
        "qc1.x(0)\n",
        "qc1.measure_all()\n",
        "job1 = sim.run(transpile(qc1, sim), shots=512).result()\n",
        "print(\"|1> counts:\", job1.get_counts())\n",
        "\n",
        "'''\n",
        "In the first circuit qc0, we have applied an H (Hadamard) gate to the qubit in the |0> state before measuring.\n",
        "The Hadamard gate puts the qubit into a superposition of |0> and |1>.\n",
        "When we measure a qubit in a superposition, the outcome is probabilistic.\n",
        "So, We are getting either |0> or |1> with a certain probability, and the act of measurement collapses the superposition to the measured state.\n",
        "This is why the results for qc0 are random.\n",
        "\n",
        "In the second circuit qc1, we have applied an X (NOT) gate to the qubit in the |0> state.\n",
        "The X gate flips the state of the qubit from |0> to |1>.\n",
        "Since the qubit is in a definite state (|1>) before measurement, the measurement outcome is always the same (|1>).\n",
        "This is why the results for qc1 are deterministic.\n",
        "'''"
      ]
    },
    {
      "cell_type": "code",
      "source": [
        "# Task 2: Change the number of shots\n",
        "# Task 1: Verify |0⟩ and |1⟩\n",
        "from qiskit import QuantumCircuit, transpile\n",
        "from qiskit_aer import AerSimulator\n",
        "\n",
        "sim = AerSimulator()\n",
        "\n",
        "# 10 shots\n",
        "print(\"Output for 10 shots\")\n",
        "# |0> state\n",
        "qc2 = QuantumCircuit(1, 1)\n",
        "qc2.h(0)\n",
        "qc2.measure_all()\n",
        "job2 = sim.run(transpile(qc2, sim), shots=10).result()\n",
        "print(\"|0> counts:\", job2.get_counts())\n",
        "\n",
        "# |1> state (apply X)\n",
        "qc3 = QuantumCircuit(1, 1)\n",
        "qc3.x(0)\n",
        "qc3.measure_all()\n",
        "job3 = sim.run(transpile(qc3, sim), shots=10).result()\n",
        "print(\"|1> counts:\", job3.get_counts())\n",
        "\n",
        "# 100 shots\n",
        "print(\"Output for 100 shots\")\n",
        "# |0> state\n",
        "qc2 = QuantumCircuit(1, 1)\n",
        "qc2.h(0)\n",
        "qc2.measure_all()\n",
        "job2 = sim.run(transpile(qc2, sim), shots=100).result()\n",
        "print(\"|0> counts:\", job2.get_counts())\n",
        "\n",
        "# |1> state (apply X)\n",
        "qc3 = QuantumCircuit(1, 1)\n",
        "qc3.x(0)\n",
        "qc3.measure_all()\n",
        "job3 = sim.run(transpile(qc3, sim), shots=100).result()\n",
        "print(\"|1> counts:\", job3.get_counts())\n",
        "\n",
        "'''\n",
        "For the circuit with the Hadamard gate (qc2):\n",
        "  The results CHANGE when we increase the number of shots from 10 to 100.\n",
        "  This change is because the qubit is in a superposition, and each measurement is probabilistic.\n",
        "\n",
        "For the circuit with the X gate (qc3):\n",
        "  The results DO NOT CHANGE when we increase the number of shots from 10 to 100.\n",
        "  With both 10 and 100 shots, we got 100% counts for |1>.\n",
        "\n",
        "  This is because the X gate puts the qubit into a definite |1> state, so the measurement outcome is always deterministic, regardless of the number of shots.\n",
        "\n",
        "In summary, the results change with the number of shots for the circuit with the Hadamard gate\n",
        "due to the probabilistic nature of measuring a superposition,\n",
        "while they remain constant for the circuit with the X gate because the qubit is in a definite state.\n",
        "\n",
        "'''"
      ],
      "metadata": {
        "id": "q4YKxrChvfd4",
        "colab": {
          "base_uri": "https://localhost:8080/"
        },
        "outputId": "5a051a6f-2a9a-4a2a-f61a-ee67a42b3597"
      },
      "execution_count": 8,
      "outputs": [
        {
          "output_type": "stream",
          "name": "stdout",
          "text": [
            "Output for 10 shots\n",
            "|0> counts: {'0 0': 5, '1 0': 5}\n",
            "|1> counts: {'1 0': 10}\n",
            "Output for 100 shots\n",
            "|0> counts: {'0 0': 44, '1 0': 56}\n",
            "|1> counts: {'1 0': 100}\n"
          ]
        }
      ]
    },
    {
      "cell_type": "code",
      "source": [
        "# Third Task : superposition with hadamard\n",
        "qc = QuantumCircuit(1, 1)\n",
        "qc.h(0)\n",
        "qc.measure_all()\n",
        "\n",
        "job = sim.run(transpile(qc, sim), shots=512).result()\n",
        "print(job.get_counts())\n",
        "\n",
        "'''\n",
        "The results are Probabilistic (50% chance for each)\n",
        "'''"
      ],
      "metadata": {
        "colab": {
          "base_uri": "https://localhost:8080/"
        },
        "id": "K4akQdmTxU6Z",
        "outputId": "86f32a9e-3b97-4de1-80dd-00efa0208af9"
      },
      "execution_count": 9,
      "outputs": [
        {
          "output_type": "stream",
          "name": "stdout",
          "text": [
            "{'1 0': 250, '0 0': 262}\n"
          ]
        }
      ]
    },
    {
      "cell_type": "code",
      "source": [
        "#Fourth task : combining both the gates\n",
        "qc_combined = QuantumCircuit(1, 1)\n",
        "qc_combined.x(0)\n",
        "qc_combined.h(0)\n",
        "qc_combined.measure_all()\n",
        "\n",
        "'''\n",
        "I predict the results to be as same as Hadamard gate result as x flips the value to 1\n",
        "followed by hadamard gate that puts the |1> into a superposition of |0> and |1>\n",
        "'''\n",
        "\n",
        "job = sim.run(transpile(qc_combined, sim), shots=512).result()\n",
        "print(job.get_counts())"
      ],
      "metadata": {
        "colab": {
          "base_uri": "https://localhost:8080/"
        },
        "id": "mo1lYNfzx-P_",
        "outputId": "6d637848-68c9-4007-b8cc-630a36653769"
      },
      "execution_count": 11,
      "outputs": [
        {
          "output_type": "stream",
          "name": "stdout",
          "text": [
            "{'0 0': 258, '1 0': 254}\n"
          ]
        }
      ]
    },
    {
      "cell_type": "code",
      "source": [
        "# Fifth task\n",
        "\n",
        "qc_2qubit = QuantumCircuit(2, 2)\n",
        "qc_2qubit.x(1)\n",
        "\n",
        "'''\n",
        "Expected Output:\n",
        "Qubit 0 starts in the |0⟩ state and no gates are applied to it, so it will remain in the |0⟩ state.\n",
        "Qubit 1 starts in the |0⟩ state, and then we apply an X gate to put it in the |1⟩ state. It will remain in the |1⟩ state.\n",
        "'''\n",
        "qc_2qubit.measure_all()\n",
        "\n",
        "job_2qubit = sim.run(transpile(qc_2qubit, sim), shots=512).result()\n",
        "counts_2qubit = job_2qubit.get_counts()\n",
        "print(\"2-qubit circuit counts: \", counts_2qubit)\n",
        "\n"
      ],
      "metadata": {
        "colab": {
          "base_uri": "https://localhost:8080/"
        },
        "id": "e-z6fsSTzGfc",
        "outputId": "d9df9bc0-09a6-44aa-98f1-0c379c64ce58"
      },
      "execution_count": 15,
      "outputs": [
        {
          "output_type": "stream",
          "name": "stdout",
          "text": [
            "2-qubit circuit counts:  {'10 00': 512}\n"
          ]
        }
      ]
    },
    {
      "cell_type": "code",
      "source": [
        "'''\n",
        "Outputs:\n",
        "As expected, it remains in the |1> state\n",
        "'''"
      ],
      "metadata": {
        "id": "DtfWHzAI2uz0"
      },
      "execution_count": null,
      "outputs": []
    }
  ]
}